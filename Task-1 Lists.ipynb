{
 "cells": [
  {
   "cell_type": "code",
   "execution_count": 61,
   "id": "9e3432f8-9d64-4ad9-9046-7b4411e22b14",
   "metadata": {},
   "outputs": [
    {
     "name": "stdout",
     "output_type": "stream",
     "text": [
      "[1, 12, 34.4, -26, 'Tuesday', True, 12, [1, 2, 3], (10, 20, 30)]\n",
      "[1, 2, 3]\n",
      "9\n",
      "12\n",
      "[12, 34.4, -26]\n",
      "[-26, 'Tuesday', True, 12, [1, 2, 3]]\n",
      "[1, 34.4, 'Tuesday', 12]\n",
      "[1, 34.4, 'Tuesday', 12, (10, 20, 30)]\n"
     ]
    }
   ],
   "source": [
    "# List can contain duplicate values. List can contain all data types and lists,tuples etc. Lists are mutable\n",
    "list1=[1, 12, 34.4, -26, \"Tuesday\", True, 12, [1,2,3], (10,20,30)] #initial list\n",
    "print(list1) #printing original list\n",
    "print(list1[7]) #accessing elements using index\n",
    "print(len(list1)) #total number of elements in the list\n",
    "print(list1[-3]) #negative indexing starts from last element of the list\n",
    "print(list1[1:4]) #positive slicing from 1 to 3\n",
    "print(list1[-6:-1]) #negative silicing from -6 to -2\n",
    "print(list1[0:7:2]) #extended slicing( it skips the given number of steps and returns the next element upto given index)\n",
    "print(list1[0::2]) #extended slicing(it skips the given number of steps and returns the next element upto the end of list)"
   ]
  },
  {
   "cell_type": "code",
   "execution_count": 62,
   "id": "77530b06-9844-4b6a-a320-86d23fd5ae5c",
   "metadata": {},
   "outputs": [
    {
     "name": "stdout",
     "output_type": "stream",
     "text": [
      "[-26, 0, 1, 12, 12, 34.4]\n",
      "[34.4, 12, 12, 1, 0, -26]\n",
      "34.4\n",
      "-26\n"
     ]
    }
   ],
   "source": [
    "# Sorting operation can be done on the list with integers only. \n",
    "list2=[1, 12, 34.4, -26, 12,0]\n",
    "list2.sort()  #Sorting the list in ascending order\n",
    "print(list2)  #printing the sorted list\n",
    "# Reversing a list\n",
    "list2.reverse()\n",
    "print(list2)\n",
    "# Minimum and maximum elements from the list\n",
    "print(max(list2))\n",
    "print(min(list2))"
   ]
  },
  {
   "cell_type": "code",
   "execution_count": 2,
   "id": "b251be64-ea0b-4cb7-818a-250c86814795",
   "metadata": {},
   "outputs": [
    {
     "name": "stdout",
     "output_type": "stream",
     "text": [
      "[True, 'String', 1221, 0.0001, -36, 450]\n",
      "[True, 'String', False, 1221, 0.0001, -36, 450]\n",
      "[True, 'String', False, 1221, 0.0001, -36, 450, 44, 45, 46]\n",
      "[True, 'String Value', False, 1221, 0.0001, -36, 450, 44, 45, 46]\n",
      "[True, 'String', True, 2121, 0.0001, -36, 450, 44, 45, 46]\n",
      "[10, 20, 30, 40]\n"
     ]
    }
   ],
   "source": [
    "list3=[True, \"String\",1221, 0.0001, -36]\n",
    "# Append method adds the one element at a time and it adds the element to the last of the list\n",
    "list3.append(450)\n",
    "print(list3)\n",
    "# If we add to add in a specific position we use insert method\n",
    "list3.insert(2, False)\n",
    "print(list3)\n",
    "# To add more than 1 element to the list we use extend method but it also adds to the last of the list\n",
    "list3.extend([44,45,46]) #it takes input in 1 form only\n",
    "print(list3)\n",
    "# Changing the elements in the list\n",
    "list3[1]=\"String Value\"\n",
    "print(list3)\n",
    "list3[1:4]=[\"String\", True, 2121]\n",
    "print(list3)\n",
    "# We can change a tuple into a list\n",
    "tuple1=(10, 20, 30, 40)\n",
    "print(list(tuple1))"
   ]
  },
  {
   "cell_type": "code",
   "execution_count": 3,
   "id": "698d915d-91f6-40c4-b64a-963288292d55",
   "metadata": {},
   "outputs": [
    {
     "name": "stdout",
     "output_type": "stream",
     "text": [
      "[12, 10.001, 12, 0, -67.998]\n",
      "[10.001, 12, 0, -67.998]\n",
      "[10.001, 12, 0]\n",
      "[12, 0]\n",
      "[]\n"
     ]
    },
    {
     "ename": "NameError",
     "evalue": "name 'list4' is not defined",
     "output_type": "error",
     "traceback": [
      "\u001b[1;31m---------------------------------------------------------------------------\u001b[0m",
      "\u001b[1;31mNameError\u001b[0m                                 Traceback (most recent call last)",
      "Cell \u001b[1;32mIn[3], line 18\u001b[0m\n\u001b[0;32m     16\u001b[0m \u001b[38;5;66;03m# To delete entire list we use \"del\" method\u001b[39;00m\n\u001b[0;32m     17\u001b[0m \u001b[38;5;28;01mdel\u001b[39;00m list4\n\u001b[1;32m---> 18\u001b[0m \u001b[38;5;28mprint\u001b[39m(list4)\n",
      "\u001b[1;31mNameError\u001b[0m: name 'list4' is not defined"
     ]
    }
   ],
   "source": [
    "list4=[12, 10.001, -33, 12, 0, -67.998]\n",
    "# Remove method is used to remove a specific element from list\n",
    "list4.remove(-33)\n",
    "print(list4)\n",
    "# If the list contains repeated values then it removes the first occurred value from the list\n",
    "list4.remove(12)\n",
    "print(list4)\n",
    "# Pop method is used to remove element using index. If the index is not specified then it removes last element from list\n",
    "list4.pop()\n",
    "print(list4)\n",
    "list4.pop(0)\n",
    "print(list4)\n",
    "# To delete all elements we use clear method. Here all elements are deleted but list is present\n",
    "list4.clear()\n",
    "print(list4)\n",
    "# To delete entire list we use \"del\" method\n",
    "del list4\n",
    "print(list4)"
   ]
  },
  {
   "cell_type": "code",
   "execution_count": 4,
   "id": "299584d2-b1cd-4109-911a-994334d180bf",
   "metadata": {},
   "outputs": [
    {
     "name": "stdout",
     "output_type": "stream",
     "text": [
      "1\n",
      "4\n"
     ]
    }
   ],
   "source": [
    "list5= [12, 10.001, -33, 12, 0, -67.998]\n",
    "# Count is used to count how many times an element occurred in the list\n",
    "print(list5.count(10.001))\n",
    "# Index method is used to find index of a specific elelment\n",
    "print(list5.index(0))"
   ]
  },
  {
   "cell_type": "code",
   "execution_count": null,
   "id": "8e14942d-91c0-4f8e-a57e-8ba4b764b0e3",
   "metadata": {},
   "outputs": [],
   "source": []
  },
  {
   "cell_type": "code",
   "execution_count": null,
   "id": "6435ad25-60e9-4342-a46f-b43cc7635c1f",
   "metadata": {},
   "outputs": [],
   "source": []
  }
 ],
 "metadata": {
  "kernelspec": {
   "display_name": "Python 3 (ipykernel)",
   "language": "python",
   "name": "python3"
  },
  "language_info": {
   "codemirror_mode": {
    "name": "ipython",
    "version": 3
   },
   "file_extension": ".py",
   "mimetype": "text/x-python",
   "name": "python",
   "nbconvert_exporter": "python",
   "pygments_lexer": "ipython3",
   "version": "3.12.7"
  }
 },
 "nbformat": 4,
 "nbformat_minor": 5
}
