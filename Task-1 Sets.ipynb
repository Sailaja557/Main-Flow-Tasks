{
 "cells": [
  {
   "cell_type": "code",
   "execution_count": 29,
   "id": "fad2642a-1fc2-45ff-b587-c643ea7da576",
   "metadata": {},
   "outputs": [
    {
     "name": "stdout",
     "output_type": "stream",
     "text": [
      "{0, True, 10, 'Hello', -20, 30.1}\n",
      "6\n",
      "7\n",
      "<class 'set'>\n",
      "<class 'set'>\n",
      "<class 'dict'>\n"
     ]
    }
   ],
   "source": [
    "# Sets also support various data types. But it donot consider duplicate values.\n",
    "# The output generated while printing the set may be in different order different times\n",
    "set1={0, 10, -20, True, 30.1, \"Hello\"}\n",
    "print(set1)\n",
    "print(len(set1))  # Length of the set\n",
    "\n",
    "# If the set contains duplicate elements then it donot consider the index\n",
    "set1={0, 10, -20, True, 30.1, \"Hello\", 12.77, 10, \"Hello\"}\n",
    "print(len(set1)) # It contains duplicates\n",
    "\n",
    "# Since the items in the set are unordered we cannot perform indexing, slicing operation\n",
    "# We cannot change items in a set but we can add or delete items from set\n",
    "# Inorder to create a set we have take input in {} \n",
    "# We have to use set() function for creating empty set. Otherwise it would belong to dictionary datatype\n",
    "set1={10,20,30,40}\n",
    "print(type(set1))\n",
    "set2=set()\n",
    "print(type(set2))\n",
    "set3={}\n",
    "print(type(set3))"
   ]
  },
  {
   "cell_type": "code",
   "execution_count": 30,
   "id": "38df9cda-489c-4d2c-9175-21127227d8b9",
   "metadata": {},
   "outputs": [
    {
     "name": "stdout",
     "output_type": "stream",
     "text": [
      "{0, True, 99, 10, 'Hello', -20, 30.1}\n",
      "{0, True, 'Hello', -20, 12.77, 30.1}\n",
      "{0, True, 'Hello', -20, 12.77, 30.1}\n",
      "{True, 10, 'Hello', -20, 12.77, 30.1}\n",
      "set()\n",
      "{0, True, (10, 20, 30, 40), 10, 'Hello', -20, 12.77, 30.1}\n"
     ]
    }
   ],
   "source": [
    "# To add items to the set we use \"add\" method\n",
    "set1={0, 10, -20, True, 30.1, \"Hello\"}\n",
    "set1.add(99)\n",
    "print(set1)\n",
    "# To remove items from the set we use \"remove\" method\n",
    "# It removes duplicates also\n",
    "set2={0, 10, -20, True, 30.1, \"Hello\", 12.77, 10, \"Hello\"}\n",
    "set2.remove(10) #Since 10 is repeated two times, both are removed\n",
    "print(set2)\n",
    "# We can alsoe use \"discard\" method to remove elements from the set\n",
    "set1={0, 10, -20, True, 30.1, \"Hello\", 12.77, 10, \"Hello\"}\n",
    "set1.discard(10)\n",
    "print(set2)\n",
    "# If we try to remove the element which is not there in the set then it shows Key error\n",
    "# If we try to discard the element which is not there in the set then it doesnot show any error\n",
    "# We use clear method to remove all items from set and pop for removing random item from set\n",
    "set1= {0, 10, -20, True, 30.1, \"Hello\", 12.77, 10, \"Hello\"}\n",
    "set1.pop()\n",
    "print(set1)\n",
    "set1= {0, 10, -20, True, 30.1, \"Hello\", 12.77, 10, \"Hello\"}\n",
    "set1.clear()\n",
    "print(set1)\n",
    "# We can add only immutable items to the set, like tuples but mutable items cannot be add to the set\n",
    "set1= {0, 10, -20, True, 30.1, \"Hello\", 12.77, 10, \"Hello\"}\n",
    "set1.add((10,20,30,40))\n",
    "print(set1)"
   ]
  },
  {
   "cell_type": "code",
   "execution_count": null,
   "id": "cd44555d-36c7-4c79-8547-c0ba66ba90e6",
   "metadata": {},
   "outputs": [],
   "source": []
  }
 ],
 "metadata": {
  "kernelspec": {
   "display_name": "Python 3 (ipykernel)",
   "language": "python",
   "name": "python3"
  },
  "language_info": {
   "codemirror_mode": {
    "name": "ipython",
    "version": 3
   },
   "file_extension": ".py",
   "mimetype": "text/x-python",
   "name": "python",
   "nbconvert_exporter": "python",
   "pygments_lexer": "ipython3",
   "version": "3.12.7"
  }
 },
 "nbformat": 4,
 "nbformat_minor": 5
}
