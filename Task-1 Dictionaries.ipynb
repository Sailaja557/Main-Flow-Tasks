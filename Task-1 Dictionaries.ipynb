{
 "cells": [
  {
   "cell_type": "code",
   "execution_count": 8,
   "id": "08845361-a229-4977-8420-058cc913cec3",
   "metadata": {},
   "outputs": [
    {
     "name": "stdout",
     "output_type": "stream",
     "text": [
      "{1: 20, 2: 30, 3: 45, 4: 50}\n",
      "{1: 20, 2: 30, 3: 45, 4: 50}\n",
      "{1: 'Hello', 2: 'Hello', 3: 'Hello'}\n",
      "Hello\n"
     ]
    }
   ],
   "source": [
    "# Dictionaries are used to store data in the form of key-value pairs and are case sensitive\n",
    "dict1={1: 20, 2:30, 3:45, 4:50} \n",
    "print(dict1)  # Printing the dictionary\n",
    "# Dictionaries can be created using dict() method also\n",
    "dict1=dict({1: 20, 2:30, 3:45, 4:50})\n",
    "print(dict1)\n",
    "# Dictionaries can also be created using list with keys and pairs\n",
    "dict1=dict([(1, \"Hello\"),(2, \"Hello\"),(3, \"Hello\")])\n",
    "print(dict1)\n",
    "# Dictionaries are ordered and if we want to access elements in the dictionary then we use keys rather than index\n",
    "print(dict1[2])\n",
    "# In dictionaries the values are mutable but keys are immutable.\n",
    "# Dictionary donot allow duplicate keys but it allows duplicate values"
   ]
  },
  {
   "cell_type": "code",
   "execution_count": 14,
   "id": "15e949f2-8f06-49c1-80c8-c3b7af7946e6",
   "metadata": {},
   "outputs": [
    {
     "name": "stdout",
     "output_type": "stream",
     "text": [
      "{1: 'Hello', 2: True, 3: 45, 4: 50}\n",
      "String\n",
      "{1: 'Hello', 2: 'String', 3: {3333, 2222, 1111}, 4: 50}\n",
      "{1: 'Hello', 2: 'String', 3: {3.1: 1111, 3.2: 2222, 3.3: 3333}, 4: 50}\n"
     ]
    }
   ],
   "source": [
    "# Values can be of any data types but keys must be immutable\n",
    "dict1={1: \"Hello\", 2:\"String\", 3:45, 4:50} \n",
    "dict1[2]=True\n",
    "print(dict1)\n",
    "# We can use get() method to fetch the element\n",
    "dict1={1: \"Hello\", 2:\"String\", 3:45, 4:50}\n",
    "print(dict1.get(2))\n",
    "# We can add dictionaries also to a dictionary\n",
    "dict1={1: \"Hello\", 2:\"String\", 3:45, 4:50}\n",
    "dict1[3]={1111,2222,3333}\n",
    "print(dict1)\n",
    "dict1={1: \"Hello\", 2:\"String\", 3:45, 4:50}\n",
    "dict1[3]={3.1:1111, 3.2:2222, 3.3:3333}\n",
    "print(dict1)"
   ]
  },
  {
   "cell_type": "code",
   "execution_count": 17,
   "id": "c9a9f171-9dca-43ee-8336-3054e3089594",
   "metadata": {},
   "outputs": [
    {
     "name": "stdout",
     "output_type": "stream",
     "text": [
      "{1: 'Hello', 3: 45, 4: 50}\n",
      "{1: 'Hello', 3: 45, 4: 50}\n",
      "{1: 'Hello', 2: 'String', 3: 45}\n",
      "{}\n"
     ]
    }
   ],
   "source": [
    "# We use del method or pop method to delete a key and its value\n",
    "dict1={1: \"Hello\", 2:\"String\", 3:45, 4:50}\n",
    "del dict1[2]\n",
    "print(dict1)\n",
    "dict1={1: \"Hello\", 2:\"String\", 3:45, 4:50}\n",
    "dict1.pop(2)\n",
    "print(dict1)\n",
    "# popitem() method is used to delete the last item added to the dictionary\n",
    "dict1={1: \"Hello\", 2:\"String\", 3:45, 4:50}\n",
    "dict1.popitem()\n",
    "print(dict1)\n",
    "# To clear all the items in the dictionary we use clear method\n",
    "dict1={1: \"Hello\", 2:\"String\", 3:45, 4:50}\n",
    "dict1.clear()\n",
    "print(dict1)"
   ]
  },
  {
   "cell_type": "code",
   "execution_count": 21,
   "id": "58f776df-a0fc-4bbc-beee-53246dfbbda7",
   "metadata": {},
   "outputs": [
    {
     "name": "stdout",
     "output_type": "stream",
     "text": [
      "dict_keys([1, 2, 3, 4])\n",
      "dict_values(['Hello', 'String', {3.1: 1111, 3.2: 2222, 3.3: 3333}, 50])\n",
      "dict_items([(1, 'Hello'), (2, 'String'), (3, {3.1: 1111, 3.2: 2222, 3.3: 3333}), (4, 50)])\n",
      "4\n",
      "{1: 'Hello', 2: 'String', 3: {3.1: 1111, 3.2: 2222, 3.3: 3333}, 4: 50}\n"
     ]
    }
   ],
   "source": [
    "# We use keys() method to print all the keys in the dictionary\n",
    "dict1= {1: 'Hello', 2: 'String', 3: {3.1: 1111, 3.2: 2222, 3.3: 3333}, 4: 50}\n",
    "print(dict1.keys())\n",
    "# We use values() method to print all the values in the dictionary\n",
    "dict1= {1: 'Hello', 2: 'String', 3: {3.1: 1111, 3.2: 2222, 3.3: 3333}, 4: 50}\n",
    "print(dict1.values())\n",
    "# We use items() method to print all the values and keys in the form of list in the dictionary\n",
    "dict1= {1: 'Hello', 2: 'String', 3: {3.1: 1111, 3.2: 2222, 3.3: 3333}, 4: 50}\n",
    "print(dict1.items())\n",
    "# We use len() method for calculating length\n",
    "dict1= {1: 'Hello', 2: 'String', 3: {3.1: 1111, 3.2: 2222, 3.3: 3333}, 4: 50}\n",
    "print(len(dict1))\n",
    "# We use copy() method for copying a dictionary\n",
    "dict1= {1: 'Hello', 2: 'String', 3: {3.1: 1111, 3.2: 2222, 3.3: 3333}, 4: 50}\n",
    "dict2=dict1.copy()\n",
    "print(dict2)"
   ]
  },
  {
   "cell_type": "code",
   "execution_count": null,
   "id": "21c6d7e2-086c-4f33-9dd5-619ebc5515e5",
   "metadata": {},
   "outputs": [],
   "source": []
  }
 ],
 "metadata": {
  "kernelspec": {
   "display_name": "Python 3 (ipykernel)",
   "language": "python",
   "name": "python3"
  },
  "language_info": {
   "codemirror_mode": {
    "name": "ipython",
    "version": 3
   },
   "file_extension": ".py",
   "mimetype": "text/x-python",
   "name": "python",
   "nbconvert_exporter": "python",
   "pygments_lexer": "ipython3",
   "version": "3.12.7"
  }
 },
 "nbformat": 4,
 "nbformat_minor": 5
}
