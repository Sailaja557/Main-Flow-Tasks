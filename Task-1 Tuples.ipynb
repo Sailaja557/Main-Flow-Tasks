{
 "cells": [
  {
   "cell_type": "code",
   "execution_count": 28,
   "id": "485b8168-327e-42f8-9067-af108f8c01da",
   "metadata": {},
   "outputs": [
    {
     "name": "stdout",
     "output_type": "stream",
     "text": [
      "(10, 0, -36, 44.789, 'Hello', 10, [1, 2, 3], (10, 20, 30))\n",
      "<class 'tuple'>\n",
      "<class 'int'>\n",
      "<class 'tuple'>\n"
     ]
    }
   ],
   "source": [
    "# Tuples are immutable that means cannot be changed. It can contain duplicate values. It supports all data types\n",
    "tuple1=(10, 0, -36, 44.789, \"Hello\", 10, [1, 2, 3], (10, 20, 30))  # initial tuple\n",
    "print(tuple1)  # printing the tuple\n",
    "# In python a valid tuple must contain \",\" after the element, otherwise it doesnot belong to type tuple\n",
    "tuple2=(10,)\n",
    "tuple3=(10)\n",
    "tuple4=() # An empty tuple without comma can be recognized as tuple\n",
    "print(type(tuple2))\n",
    "print(type(tuple3))# Since there is no comma after 10 python doesnot recognizes as tuple\n",
    "print(type(tuple4))"
   ]
  },
  {
   "cell_type": "code",
   "execution_count": 29,
   "id": "0700d984-0b4e-40fa-be89-bb5cd4c1c779",
   "metadata": {},
   "outputs": [
    {
     "name": "stdout",
     "output_type": "stream",
     "text": [
      "(0, -12.999, 34.001, 69, 'Hello', True, [-1, 10, -2, -3], (20, 39.8, 56))\n",
      "8\n",
      "[-1, 10, -2, -3]\n",
      "(69, 'Hello', True, [-1, 10, -2, -3], (20, 39.8, 56))\n",
      "True\n",
      "(34.001, 69, 'Hello', True, [-1, 10, -2, -3])\n",
      "(-12.999, 69, True, (20, 39.8, 56))\n",
      "(0, 34.001, 'Hello', [-1, 10, -2, -3])\n"
     ]
    }
   ],
   "source": [
    "tuple5=(0, -12.999, 34.001, 69, \"Hello\", True, [-1, 10, -2, -3], (20, 39.8, 56))\n",
    "print(tuple5)\n",
    "print(len(tuple5)) # Length of the tuple\n",
    "print(tuple5[6])  # Accessing element through index\n",
    "print(tuple5[3:8])  # positive slicing using index\n",
    "print(tuple5[-3])  # Accessing element through negative index\n",
    "print(tuple5[-6:-1]) #negative slicing using index\n",
    "print(tuple5[1:8:2]) # Extended slicing which skips the given number of steps\n",
    "print(tuple5[-8:-1:2]) # Extended slicing which skips the given number of steps"
   ]
  },
  {
   "cell_type": "code",
   "execution_count": 30,
   "id": "594615f2-3c71-4523-9f89-c117da85ef08",
   "metadata": {},
   "outputs": [
    {
     "ename": "AttributeError",
     "evalue": "'tuple' object has no attribute 'sort'",
     "output_type": "error",
     "traceback": [
      "\u001b[1;31m---------------------------------------------------------------------------\u001b[0m",
      "\u001b[1;31mAttributeError\u001b[0m                            Traceback (most recent call last)",
      "Cell \u001b[1;32mIn[30], line 4\u001b[0m\n\u001b[0;32m      1\u001b[0m \u001b[38;5;66;03m# Tuples are immutable which means tuples cannot be modified. We cannot perform any methods on tuples.\u001b[39;00m\n\u001b[0;32m      2\u001b[0m \u001b[38;5;66;03m# As you can see it gives an error\u001b[39;00m\n\u001b[0;32m      3\u001b[0m tuple6\u001b[38;5;241m=\u001b[39m(\u001b[38;5;241m10\u001b[39m, \u001b[38;5;241m0\u001b[39m, \u001b[38;5;241m-\u001b[39m\u001b[38;5;241m37\u001b[39m, \u001b[38;5;241m-\u001b[39m\u001b[38;5;241m50.98\u001b[39m, \u001b[38;5;241m10000\u001b[39m)\n\u001b[1;32m----> 4\u001b[0m tuple6\u001b[38;5;241m.\u001b[39msort()\n\u001b[0;32m      5\u001b[0m \u001b[38;5;28mprint\u001b[39m(tuple6)\n",
      "\u001b[1;31mAttributeError\u001b[0m: 'tuple' object has no attribute 'sort'"
     ]
    }
   ],
   "source": [
    "# Tuples are immutable which means tuples cannot be modified. We cannot perform any methods on tuples.\n",
    "# As you can see it gives an error\n",
    "tuple6=(10, 0, -37, -50.98, 10000)\n",
    "tuple6.sort()\n",
    "print(tuple6)"
   ]
  },
  {
   "cell_type": "code",
   "execution_count": 31,
   "id": "400ec963-42ca-46d9-898e-ec391d5f3252",
   "metadata": {},
   "outputs": [
    {
     "name": "stdout",
     "output_type": "stream",
     "text": [
      "((0, 0, -37, -50.98, 10000), (1, 2, 3))\n",
      "(0, 0, -37, -50.98, 10000, 1, 2, 3)\n",
      "1\n",
      "3\n",
      "2\n",
      "3\n",
      "('Hello', 'Hello', 'Hello')\n",
      "(10, 20, 30, 40)\n"
     ]
    }
   ],
   "source": [
    "# Nesting of tuples\n",
    "tuple1=(0, 0, -37, -50.98, 10000)\n",
    "tuple2=(1,2,3)\n",
    "tuple3=(tuple1, tuple2)\n",
    "print(tuple3)\n",
    "# Concatenation of tuples\n",
    "tuple1=(0, 0, -37, -50.98, 10000)\n",
    "tuple2=(1,2,3)\n",
    "tuple3= tuple1+tuple2\n",
    "print(tuple3)\n",
    "# Min and Max in a tuple\n",
    "tuple1=(1,2,3)\n",
    "print(min(tuple1))\n",
    "print(max(tuple2))\n",
    "# Count how many times an element occur\n",
    "tuple1=(0, 0, -37, -50.98, 10000)\n",
    "print(tuple1.count(0))\n",
    "# Find the index of an element in a tuple\n",
    "tuple1=(0, 0, -37, -50.98, 10000)\n",
    "print(tuple1.index(-50.98))\n",
    "# String multiplication in tuples\n",
    "tuple1=('Hello',)*3\n",
    "print(tuple1)\n",
    "# We can convert a list into a tuple\n",
    "list1=[10, 20, 30, 40]\n",
    "print(tuple(list1))"
   ]
  },
  {
   "cell_type": "code",
   "execution_count": null,
   "id": "76a650df-726a-43d1-a74c-bfdbcb3f1633",
   "metadata": {},
   "outputs": [],
   "source": []
  }
 ],
 "metadata": {
  "kernelspec": {
   "display_name": "Python 3 (ipykernel)",
   "language": "python",
   "name": "python3"
  },
  "language_info": {
   "codemirror_mode": {
    "name": "ipython",
    "version": 3
   },
   "file_extension": ".py",
   "mimetype": "text/x-python",
   "name": "python",
   "nbconvert_exporter": "python",
   "pygments_lexer": "ipython3",
   "version": "3.12.7"
  }
 },
 "nbformat": 4,
 "nbformat_minor": 5
}
